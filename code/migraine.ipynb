{
 "cells": [
  {
   "cell_type": "code",
   "execution_count": 6,
   "id": "78e92cb4-383b-4541-82c0-31d515883895",
   "metadata": {},
   "outputs": [
    {
     "name": "stdout",
     "output_type": "stream",
     "text": [
      "<class 'pandas.core.frame.DataFrame'>\n",
      "RangeIndex: 400 entries, 0 to 399\n",
      "Data columns (total 24 columns):\n",
      " #   Column       Non-Null Count  Dtype \n",
      "---  ------       --------------  ----- \n",
      " 0   Age          400 non-null    int64 \n",
      " 1   Duration     400 non-null    int64 \n",
      " 2   Frequency    400 non-null    int64 \n",
      " 3   Location     400 non-null    int64 \n",
      " 4   Character    400 non-null    int64 \n",
      " 5   Intensity    400 non-null    int64 \n",
      " 6   Nausea       400 non-null    int64 \n",
      " 7   Vomit        400 non-null    int64 \n",
      " 8   Phonophobia  400 non-null    int64 \n",
      " 9   Photophobia  400 non-null    int64 \n",
      " 10  Visual       400 non-null    int64 \n",
      " 11  Sensory      400 non-null    int64 \n",
      " 12  Dysphasia    400 non-null    int64 \n",
      " 13  Dysarthria   400 non-null    int64 \n",
      " 14  Vertigo      400 non-null    int64 \n",
      " 15  Tinnitus     400 non-null    int64 \n",
      " 16  Hypoacusis   400 non-null    int64 \n",
      " 17  Diplopia     400 non-null    int64 \n",
      " 18  Defect       400 non-null    int64 \n",
      " 19  Ataxia       400 non-null    int64 \n",
      " 20  Conscience   400 non-null    int64 \n",
      " 21  Paresthesia  400 non-null    int64 \n",
      " 22  DPF          400 non-null    int64 \n",
      " 23  Type         400 non-null    object\n",
      "dtypes: int64(23), object(1)\n",
      "memory usage: 75.1+ KB\n",
      "None\n",
      "   Age  Duration  Frequency  Location  Character  Intensity  Nausea  Vomit  \\\n",
      "0   30         1          5         1          1          2       1      0   \n",
      "1   50         3          5         1          1          3       1      1   \n",
      "2   53         2          1         1          1          2       1      1   \n",
      "3   45         3          5         1          1          3       1      0   \n",
      "4   53         1          1         1          1          2       1      0   \n",
      "\n",
      "   Phonophobia  Photophobia  ...  Vertigo  Tinnitus  Hypoacusis  Diplopia  \\\n",
      "0            1            1  ...        0         0           0         0   \n",
      "1            1            1  ...        1         0           0         0   \n",
      "2            1            1  ...        0         0           0         0   \n",
      "3            1            1  ...        1         0           0         0   \n",
      "4            1            1  ...        0         0           0         0   \n",
      "\n",
      "   Defect  Ataxia  Conscience  Paresthesia  DPF                        Type  \n",
      "0       0       0           0            0    0  Typical aura with migraine  \n",
      "1       0       0           0            0    0  Typical aura with migraine  \n",
      "2       0       0           0            0    0  Typical aura with migraine  \n",
      "3       0       0           0            0    0  Typical aura with migraine  \n",
      "4       0       0           0            0    1  Typical aura with migraine  \n",
      "\n",
      "[5 rows x 24 columns]\n",
      "Age            0\n",
      "Duration       0\n",
      "Frequency      0\n",
      "Location       0\n",
      "Character      0\n",
      "Intensity      0\n",
      "Nausea         0\n",
      "Vomit          0\n",
      "Phonophobia    0\n",
      "Photophobia    0\n",
      "Visual         0\n",
      "Sensory        0\n",
      "Dysphasia      0\n",
      "Dysarthria     0\n",
      "Vertigo        0\n",
      "Tinnitus       0\n",
      "Hypoacusis     0\n",
      "Diplopia       0\n",
      "Defect         0\n",
      "Ataxia         0\n",
      "Conscience     0\n",
      "Paresthesia    0\n",
      "DPF            0\n",
      "Type           0\n",
      "dtype: int64\n"
     ]
    }
   ],
   "source": [
    "import pandas as pd\n",
    "\n",
    "# Load the dataset\n",
    "file_path = \"C:/Users/rohit/Downloads/project_files/dataset/migraine_data.csv\"\n",
    "df = pd.read_csv(file_path)\n",
    "\n",
    "# Display basic info\n",
    "print(df.info())\n",
    "print(df.head())\n",
    "\n",
    "# Check for missing values\n",
    "print(df.isnull().sum())"
   ]
  },
  {
   "cell_type": "code",
   "execution_count": 9,
   "id": "87778eb9-a2c3-419d-9556-d24225b7ca4d",
   "metadata": {},
   "outputs": [
    {
     "name": "stdout",
     "output_type": "stream",
     "text": [
      "Index(['Age', 'Duration', 'Frequency', 'Location', 'Character', 'Intensity',\n",
      "       'Nausea', 'Vomit', 'Phonophobia', 'Photophobia', 'Visual', 'Sensory',\n",
      "       'Dysphasia', 'Dysarthria', 'Vertigo', 'Tinnitus', 'Hypoacusis',\n",
      "       'Diplopia', 'Defect', 'Ataxia', 'Conscience', 'Paresthesia', 'DPF',\n",
      "       'Type'],\n",
      "      dtype='object')\n"
     ]
    }
   ],
   "source": [
    "print(df.columns)"
   ]
  },
  {
   "cell_type": "code",
   "execution_count": 13,
   "id": "2ac8d51c-d11d-49b0-9d06-bf38ad344aab",
   "metadata": {},
   "outputs": [
    {
     "name": "stdout",
     "output_type": "stream",
     "text": [
      "Data Preprocessing Complete!\n"
     ]
    }
   ],
   "source": [
    "from sklearn.model_selection import train_test_split\n",
    "from sklearn.preprocessing import LabelEncoder, StandardScaler\n",
    "\n",
    "# Set the target column\n",
    "target_col = 'Type'  # If 'Type' is the target column\n",
    "\n",
    "# Handle missing values (drop or fill)\n",
    "df = df.dropna()  # Drop rows with missing values\n",
    "\n",
    "# Encode categorical columns\n",
    "label_encoders = {}\n",
    "for col in df.select_dtypes(include=['object']).columns:\n",
    "    if col != target_col:  # Don't encode the target column here\n",
    "        le = LabelEncoder()\n",
    "        df[col] = le.fit_transform(df[col])\n",
    "        label_encoders[col] = le  # Save encoder for future use\n",
    "\n",
    "# Encode the target column\n",
    "target_encoder = LabelEncoder()\n",
    "y = target_encoder.fit_transform(df[target_col])  # Encode target labels\n",
    "\n",
    "# Separate features (X) and target (y)\n",
    "X = df.drop(columns=[target_col])  \n",
    "\n",
    "# Normalize numerical data (if needed)\n",
    "scaler = StandardScaler()\n",
    "X = scaler.fit_transform(X)\n",
    "\n",
    "# Split into train and test sets\n",
    "X_train, X_test, y_train, y_test = train_test_split(X, y, test_size=0.2, random_state=42)\n",
    "\n",
    "print(\"Data Preprocessing Complete!\")\n"
   ]
  },
  {
   "cell_type": "code",
   "execution_count": 15,
   "id": "c55798f5-b5fa-488f-b366-71322af7cadd",
   "metadata": {},
   "outputs": [
    {
     "name": "stdout",
     "output_type": "stream",
     "text": [
      "SVM Accuracy: 0.9375\n",
      "Logistic Regression Accuracy: 0.95\n",
      "Random Forest Accuracy: 0.925\n",
      "\n",
      "SVM Classification Report:\n",
      "               precision    recall  f1-score   support\n",
      "\n",
      "           0       1.00      0.83      0.91         6\n",
      "           1       0.75      1.00      0.86         3\n",
      "           2       1.00      1.00      1.00        13\n",
      "           3       1.00      1.00      1.00         4\n",
      "           4       0.00      0.00      0.00         2\n",
      "           5       0.96      0.96      0.96        49\n",
      "           6       1.00      1.00      1.00         3\n",
      "\n",
      "    accuracy                           0.94        80\n",
      "   macro avg       0.82      0.83      0.82        80\n",
      "weighted avg       0.94      0.94      0.94        80\n",
      "\n",
      "\n",
      "Logistic Regression Classification Report:\n",
      "               precision    recall  f1-score   support\n",
      "\n",
      "           0       1.00      0.83      0.91         6\n",
      "           1       0.75      1.00      0.86         3\n",
      "           2       1.00      1.00      1.00        13\n",
      "           3       1.00      1.00      1.00         4\n",
      "           4       0.33      0.50      0.40         2\n",
      "           5       0.98      0.96      0.97        49\n",
      "           6       1.00      1.00      1.00         3\n",
      "\n",
      "    accuracy                           0.95        80\n",
      "   macro avg       0.87      0.90      0.88        80\n",
      "weighted avg       0.96      0.95      0.95        80\n",
      "\n",
      "\n",
      "Random Forest Classification Report:\n",
      "               precision    recall  f1-score   support\n",
      "\n",
      "           0       0.83      0.83      0.83         6\n",
      "           1       1.00      0.67      0.80         3\n",
      "           2       0.87      1.00      0.93        13\n",
      "           3       1.00      0.75      0.86         4\n",
      "           4       0.00      0.00      0.00         2\n",
      "           5       0.96      0.98      0.97        49\n",
      "           6       1.00      1.00      1.00         3\n",
      "\n",
      "    accuracy                           0.93        80\n",
      "   macro avg       0.81      0.75      0.77        80\n",
      "weighted avg       0.92      0.93      0.92        80\n",
      "\n"
     ]
    }
   ],
   "source": [
    "from sklearn.svm import SVC\n",
    "from sklearn.linear_model import LogisticRegression\n",
    "from sklearn.ensemble import RandomForestClassifier\n",
    "from sklearn.metrics import accuracy_score, classification_report\n",
    "\n",
    "# Train Support Vector Machine (SVM)\n",
    "svm_model = SVC(kernel='linear', random_state=42)\n",
    "svm_model.fit(X_train, y_train)\n",
    "svm_pred = svm_model.predict(X_test)\n",
    "\n",
    "# Train Logistic Regression\n",
    "log_reg = LogisticRegression(random_state=42)\n",
    "log_reg.fit(X_train, y_train)\n",
    "log_pred = log_reg.predict(X_test)\n",
    "\n",
    "# Train Random Forest\n",
    "rf_model = RandomForestClassifier(n_estimators=100, random_state=42)\n",
    "rf_model.fit(X_train, y_train)\n",
    "rf_pred = rf_model.predict(X_test)\n",
    "\n",
    "# Evaluate Models\n",
    "print(\"SVM Accuracy:\", accuracy_score(y_test, svm_pred))\n",
    "print(\"Logistic Regression Accuracy:\", accuracy_score(y_test, log_pred))\n",
    "print(\"Random Forest Accuracy:\", accuracy_score(y_test, rf_pred))\n",
    "\n",
    "# Display Classification Reports\n",
    "print(\"\\nSVM Classification Report:\\n\", classification_report(y_test, svm_pred))\n",
    "print(\"\\nLogistic Regression Classification Report:\\n\", classification_report(y_test, log_pred))\n",
    "print(\"\\nRandom Forest Classification Report:\\n\", classification_report(y_test, rf_pred))\n"
   ]
  },
  {
   "cell_type": "code",
   "execution_count": 21,
   "id": "d79a70d3-c579-4461-8682-cd0d547869b3",
   "metadata": {},
   "outputs": [],
   "source": [
    "import pickle"
   ]
  },
  {
   "cell_type": "code",
   "execution_count": 25,
   "id": "1f306caf-1425-4f5f-8e45-272990e887a4",
   "metadata": {},
   "outputs": [
    {
     "name": "stdout",
     "output_type": "stream",
     "text": [
      "Model saved successfully!\n"
     ]
    }
   ],
   "source": [
    "filename = 'migraine_model.sav'\n",
    "pickle.dump(log_reg, open(filename, 'wb'))  # Replace log_reg with your trained model\n",
    "print(\"Model saved successfully!\")"
   ]
  },
  {
   "cell_type": "code",
   "execution_count": 31,
   "id": "dac3f18a-dbf2-4f14-b611-018aaabdb26a",
   "metadata": {},
   "outputs": [
    {
     "name": "stdout",
     "output_type": "stream",
     "text": [
      "Model loaded successfully!\n"
     ]
    }
   ],
   "source": [
    "import numpy as np\n",
    "# Load the saved model\n",
    "filename = 'migraine_model.sav'\n",
    "with open(filename, 'rb') as file:\n",
    "    loaded_model = pickle.load(file)\n",
    "\n",
    "print(\"Model loaded successfully!\")"
   ]
  },
  {
   "cell_type": "code",
   "execution_count": 33,
   "id": "f96a0e79-512e-4857-ba02-10e53372a408",
   "metadata": {},
   "outputs": [
    {
     "name": "stdout",
     "output_type": "stream",
     "text": [
      "Predicted Migraine Type: 2\n"
     ]
    }
   ],
   "source": [
    "# Sample input (replace with real values from your dataset)\n",
    "sample_input = np.array([[25, 4, 3, 1, 2, 8, 1, 0, 1, 1, 0, 2, 0, 0, 1, 0, 0, 0, 1, 1, 0, 1, 2]])\n",
    "\n",
    "# Make prediction\n",
    "prediction = loaded_model.predict(sample_input)\n",
    "\n",
    "# Print the predicted migraine type\n",
    "print(f\"Predicted Migraine Type: {prediction[0]}\")\n"
   ]
  },
  {
   "cell_type": "code",
   "execution_count": null,
   "id": "cca692cc-35bf-4ac9-94db-0ba99766b3cd",
   "metadata": {},
   "outputs": [],
   "source": []
  }
 ],
 "metadata": {
  "kernelspec": {
   "display_name": "Python 3 (ipykernel)",
   "language": "python",
   "name": "python3"
  },
  "language_info": {
   "codemirror_mode": {
    "name": "ipython",
    "version": 3
   },
   "file_extension": ".py",
   "mimetype": "text/x-python",
   "name": "python",
   "nbconvert_exporter": "python",
   "pygments_lexer": "ipython3",
   "version": "3.12.4"
  }
 },
 "nbformat": 4,
 "nbformat_minor": 5
}
